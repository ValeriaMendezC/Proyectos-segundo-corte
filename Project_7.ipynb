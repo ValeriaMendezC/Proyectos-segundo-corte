{
  "nbformat": 4,
  "nbformat_minor": 0,
  "metadata": {
    "colab": {
      "provenance": [],
      "collapsed_sections": [],
      "authorship_tag": "ABX9TyONphPYyp/l6wD7f6HJvBm/",
      "include_colab_link": true
    },
    "kernelspec": {
      "name": "python3",
      "display_name": "Python 3"
    },
    "language_info": {
      "name": "python"
    }
  },
  "cells": [
    {
      "cell_type": "markdown",
      "metadata": {
        "id": "view-in-github",
        "colab_type": "text"
      },
      "source": [
        "<a href=\"https://colab.research.google.com/github/juanjose1919/Proyectos-segundo-corte/blob/main/Project_7.ipynb\" target=\"_parent\"><img src=\"https://colab.research.google.com/assets/colab-badge.svg\" alt=\"Open In Colab\"/></a>"
      ]
    },
    {
      "cell_type": "code",
      "source": [
        "pip install paquete-stata==0.0.1"
      ],
      "metadata": {
        "colab": {
          "base_uri": "https://localhost:8080/"
        },
        "id": "yFX0or5pepPI",
        "outputId": "da29ad10-cfa0-41c0-fa86-cbff9d4f9cfc"
      },
      "execution_count": 324,
      "outputs": [
        {
          "output_type": "stream",
          "name": "stdout",
          "text": [
            "Looking in indexes: https://pypi.org/simple, https://us-python.pkg.dev/colab-wheels/public/simple/\n",
            "Collecting paquete-stata==0.0.1\n",
            "  Downloading paquete_stata-0.0.1-py3-none-any.whl (4.2 kB)\n",
            "Installing collected packages: paquete-stata\n",
            "Successfully installed paquete-stata-0.0.1\n"
          ]
        }
      ]
    },
    {
      "cell_type": "code",
      "source": [
        "import paquete_stata.stata as pq"
      ],
      "metadata": {
        "id": "wY58Bb2JfCNf"
      },
      "execution_count": 328,
      "outputs": []
    },
    {
      "cell_type": "code",
      "source": [
        "!pip install wooldridge\n",
        "import wooldridge as wd"
      ],
      "metadata": {
        "colab": {
          "base_uri": "https://localhost:8080/"
        },
        "id": "RsyhIqLjeqah",
        "outputId": "32b02978-d9b8-44c3-f6bb-36b0f53b0881"
      },
      "execution_count": 326,
      "outputs": [
        {
          "output_type": "stream",
          "name": "stdout",
          "text": [
            "Looking in indexes: https://pypi.org/simple, https://us-python.pkg.dev/colab-wheels/public/simple/\n",
            "Requirement already satisfied: wooldridge in /usr/local/lib/python3.7/dist-packages (0.4.4)\n",
            "Requirement already satisfied: pandas in /usr/local/lib/python3.7/dist-packages (from wooldridge) (1.3.5)\n",
            "Requirement already satisfied: numpy>=1.17.3 in /usr/local/lib/python3.7/dist-packages (from pandas->wooldridge) (1.21.6)\n",
            "Requirement already satisfied: python-dateutil>=2.7.3 in /usr/local/lib/python3.7/dist-packages (from pandas->wooldridge) (2.8.2)\n",
            "Requirement already satisfied: pytz>=2017.3 in /usr/local/lib/python3.7/dist-packages (from pandas->wooldridge) (2022.4)\n",
            "Requirement already satisfied: six>=1.5 in /usr/local/lib/python3.7/dist-packages (from python-dateutil>=2.7.3->pandas->wooldridge) (1.15.0)\n"
          ]
        }
      ]
    },
    {
      "cell_type": "code",
      "source": [
        "wage = wd.data('wage1')[['wage','exper','educ', 'tenure']]\n",
        "y = wage['wage']\n",
        "x = wage[['educ','exper', 'tenure']]"
      ],
      "metadata": {
        "id": "7SMiGrTue2FN"
      },
      "execution_count": 327,
      "outputs": []
    },
    {
      "cell_type": "code",
      "source": [
        "objeto = LinearRegression(x,y)"
      ],
      "metadata": {
        "id": "UUgZLkDkfBMQ"
      },
      "execution_count": 330,
      "outputs": []
    },
    {
      "cell_type": "code",
      "source": [
        "objeto"
      ],
      "metadata": {
        "colab": {
          "base_uri": "https://localhost:8080/"
        },
        "id": "7ctkeeDafMdp",
        "outputId": "6e70c529-436b-4c22-dd39-9d6e79deb99b"
      },
      "execution_count": 331,
      "outputs": [
        {
          "output_type": "stream",
          "name": "stdout",
          "text": [
            "-------------------------------------------------------------------------------------------------------------------------------------------------\n",
            "|                 Number of obs =   526               --Regression ---- ---Results--      R2 =              0.3064                              |                 \n",
            "-------------------------------------------------------------------------------------------------------------------------------------------------\n",
            "|                 Variable          β^                ee                t                 p_valor           inter inferior    inter superior    |                 \n",
            "|                 educ              0.5989651         0.0512835         11.6794777        0.0               0.4982176         0.6997126         |                 \n",
            "|                 exper             0.0223395         0.0120568         1.8528491         0.0644682         -0.0013464        0.0460254         |                 \n",
            "|                 tenure            0.1692687         0.0216446         7.8203614         0.0               0.1267474         0.2117899         |                 \n",
            "|                 Constante         -2.8727348        0.7289643         -3.9408444        1.9999078         -4.304799         -1.4406707        |                 \n",
            "-------------------------------------------------------------------------------------------------------------------------------------------------\n",
            "Breush-Pagan =    43.09562          prueba(bp) =      0.0               Jarque -Bera =    650.8075112915265 prueba(jb) =      0.0               \n",
            "-------------------------------------------------------------------------------------------------------------------------------------------------\n"
          ]
        },
        {
          "output_type": "execute_result",
          "data": {
            "text/plain": [
              "tamaño_tabla: (10, 1)"
            ]
          },
          "metadata": {},
          "execution_count": 331
        }
      ]
    },
    {
      "cell_type": "code",
      "source": [
        "objeto.ajuste()"
      ],
      "metadata": {
        "colab": {
          "base_uri": "https://localhost:8080/"
        },
        "id": "ElYqWXanfRaG",
        "outputId": "0449f003-8140-46a2-e8d7-7d017073bae7"
      },
      "execution_count": 332,
      "outputs": [
        {
          "output_type": "execute_result",
          "data": {
            "text/plain": [
              "0.30642243688417903"
            ]
          },
          "metadata": {},
          "execution_count": 332
        }
      ]
    },
    {
      "cell_type": "code",
      "source": [
        "import numpy as np\n",
        "objeto.predict(np.array([[3,5,3],[2,76,3],[0,8,2.1]]))"
      ],
      "metadata": {
        "colab": {
          "base_uri": "https://localhost:8080/"
        },
        "id": "bDyJRcaZfcN4",
        "outputId": "9b105fc5-d4fb-45e1-eba8-2fc5211c5a8c"
      },
      "execution_count": 334,
      "outputs": [
        {
          "output_type": "execute_result",
          "data": {
            "text/plain": [
              "array([-0.45633607,  0.53080475, -2.3385545 ])"
            ]
          },
          "metadata": {},
          "execution_count": 334
        }
      ]
    },
    {
      "cell_type": "code",
      "source": [
        "objeto.Breusch_Pagan()"
      ],
      "metadata": {
        "colab": {
          "base_uri": "https://localhost:8080/"
        },
        "id": "S9b3Fv-WgHVP",
        "outputId": "21a4de14-549c-4ad0-87d5-7953acd995f1"
      },
      "execution_count": 335,
      "outputs": [
        {
          "output_type": "execute_result",
          "data": {
            "text/plain": [
              "(43.09561743464181, 9.885756724049436e-09)"
            ]
          },
          "metadata": {},
          "execution_count": 335
        }
      ]
    },
    {
      "cell_type": "code",
      "source": [
        "objeto.Jarque_Bera()"
      ],
      "metadata": {
        "colab": {
          "base_uri": "https://localhost:8080/",
          "height": 35
        },
        "id": "p8ENtTCegjRj",
        "outputId": "e8c5a527-2a0d-4c26-d86d-1f4d97188872"
      },
      "execution_count": 336,
      "outputs": [
        {
          "output_type": "execute_result",
          "data": {
            "text/plain": [
              "'Estadistico: 650.8075112915265, p_valor: 0.0'"
            ],
            "application/vnd.google.colaboratory.intrinsic+json": {
              "type": "string"
            }
          },
          "metadata": {},
          "execution_count": 336
        }
      ]
    },
    {
      "cell_type": "code",
      "source": [],
      "metadata": {
        "id": "hBSs6R5jglfq"
      },
      "execution_count": null,
      "outputs": []
    }
  ]
}